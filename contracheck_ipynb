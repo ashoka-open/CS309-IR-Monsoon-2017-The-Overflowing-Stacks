{
 "cells": [
  {
   "cell_type": "markdown",
   "metadata": {},
   "source": [
    "# CONTRACHECK "
   ]
  },
  {
   "cell_type": "markdown",
   "metadata": {},
   "source": [
    "### Import statements"
   ]
  },
  {
   "cell_type": "code",
   "execution_count": 1,
   "metadata": {
    "collapsed": false
   },
   "outputs": [
    {
     "name": "stderr",
     "output_type": "stream",
     "text": [
      "Using TensorFlow backend.\n"
     ]
    }
   ],
   "source": [
    "import os\n",
    "import time\n",
    "import keras\n",
    "import sys\n",
    "import numpy as np\n",
    "from keras.preprocessing.text import Tokenizer\n",
    "from keras.preprocessing.sequence import pad_sequences\n",
    "from keras.utils import to_categorical\n",
    "from keras.layers import Dense, Input, GlobalMaxPooling1D\n",
    "from keras.layers import Conv1D, MaxPooling1D, Embedding\n",
    "from keras.models import Model\n",
    "from sklearn.preprocessing import LabelEncoder\n",
    "from keras.utils import np_utils\n",
    "from keras.layers import LSTM, Bidirectional\n",
    "from keras.layers import Dropout\n",
    "from keras.utils import plot_model\n",
    "import itertools\n",
    "from keras import *\n",
    "from keras import backend as K\n",
    "from keras.engine.topology import Layer\n",
    "from keras.utils import to_categorical\n",
    "from keras.callbacks import TensorBoard"
   ]
  },
  {
   "cell_type": "markdown",
   "metadata": {},
   "source": [
    "### Load word embeddings (GloVe 300d)"
   ]
  },
  {
   "cell_type": "code",
   "execution_count": 2,
   "metadata": {
    "collapsed": false
   },
   "outputs": [
    {
     "name": "stdout",
     "output_type": "stream",
     "text": [
      "Indexing word vectors.\n",
      "Found 400000 word vectors.\n"
     ]
    }
   ],
   "source": [
    "EMBEDDING_DIM = 300\n",
    "\n",
    "print('Indexing word vectors.')\n",
    "\n",
    "embeddings_index = {}\n",
    "f = open(os.path.join('glove.6B', 'glove.6B.300d.txt'))\n",
    "for line in f:\n",
    "    values = line.split()\n",
    "    word = values[0]\n",
    "    coefs = np.asarray(values[1:], dtype='float32')\n",
    "    embeddings_index[word] = coefs\n",
    "f.close()\n",
    "\n",
    "print('Found %s word vectors.' % len(embeddings_index))"
   ]
  },
  {
   "cell_type": "markdown",
   "metadata": {},
   "source": [
    "### Preprocess data"
   ]
  },
  {
   "cell_type": "code",
   "execution_count": 10,
   "metadata": {
    "collapsed": true
   },
   "outputs": [],
   "source": [
    "sentences = {}\n",
    "antonyms = {}\n",
    "finallist = []\n",
    "\n",
    "def IOU(sentenceA,sentenceB):\n",
    "      s = set(sentenceA.lower().split())\n",
    "      t = set(sentenceB.lower().split())\n",
    "      Union = s|t\n",
    "      Intersection = s&t\n",
    "      return float(len(Intersection)/len(Union))\n",
    "      \n",
    "def Negation(sentenceA,sentenceB) :\n",
    "      Words = [\"no\",\"never\", \"no one\",\"nothing\" ,\"not\",\"without\",\"nobody\"]\n",
    "      s = set(sentenceA.lower().split())\n",
    "      t = set(sentenceB.lower().split())\n",
    "      Union = s|t\n",
    "      Intersection = s&t\n",
    "      \n",
    "      for j in Words:\n",
    "         if j in Union and j not in Intersection :\n",
    "            return 1.0\n",
    "            \n",
    "      return 0.0\n",
    "\n",
    "def Overlap(sentenceA,sentenceB):\n",
    "      s = set(sentenceA.lower().split())\n",
    "      t = set(sentenceB.lower().split())\n",
    "\n",
    "      return float(len(s&t)/min(len(sentenceA),len(sentenceB)))   \n",
    "\n",
    "def loadDataset(filename):\n",
    "      inputfile = open(filename)\n",
    "      for line in inputfile:\n",
    "            s = line.replace('\\n', '').replace(',','').replace('\\'','').replace(\".\",'').replace(\"?\",'').replace(\"!\",'').lower().split('\\t')\n",
    "            sentences[line] = [s[1],s[2],s[4]]\n",
    "\n",
    "def loadAntonyms(filename):\n",
    "      inputfile = open(filename)\n",
    "      for line in inputfile:\n",
    "            s = line.lower().split('\\t')\n",
    "            x = s[1].replace(' ','').replace('\\n','').split(\",\")\n",
    "            # if(s[1] == '' or s[0] == ''):\n",
    "            #       print(s[0],s[1])\n",
    "            antonyms[s[0]] = x\n",
    "\n",
    "def antonymCheck(sentenceA,sentenceB):\n",
    "      s1_list = []\n",
    "      s2_list = []\n",
    "      s1_list = sentenceA.lower().split()\n",
    "      s2_list = sentenceB.lower().split()\n",
    "\n",
    "      for s in s1_list:\n",
    "            if s in antonyms:\n",
    "                  for x in s2_list:\n",
    "                        for w in antonyms[s]:\n",
    "                              if w == x:\n",
    "                                    return 1\n",
    "      return 0\n",
    "\n",
    "loadDataset(\"testcases.txt\")\n",
    "loadAntonyms(\"antonyms.txt\")"
   ]
  },
  {
   "cell_type": "code",
   "execution_count": 120,
   "metadata": {
    "collapsed": false
   },
   "outputs": [
    {
     "name": "stdout",
     "output_type": "stream",
     "text": [
      "1293\n",
      "['553555600911925249.json_553096753898323968.json', 'contradiction', 'story 1: there is a gunman/has been a shooting incident in trocadero (police clearing the area); story 2: shots were fired at montrouge in paris', 'french media report the trocadero near the eiffel tower in paris has been evacuated and police have been deployed there', '\"breaking: automatic gunfire reported at montrouge near paris. gunmen escaped in metro, say french reports \"\\n']\n",
      "total sentences:  1293\n",
      "1293 1293 1293\n",
      "1293 1293 1293 1293\n",
      "Found 589 unique tokens.\n"
     ]
    }
   ],
   "source": [
    "texts = []\n",
    "labels_index = {}  # dictionary mapping label name to numeric id\n",
    "labels = []  # list of label ids\n",
    "\n",
    "sentences = []\n",
    "\n",
    "sentenceA = []\n",
    "sentenceB = []\n",
    "classLabel = []\n",
    "iou = []\n",
    "negation = []\n",
    "antonym = []\n",
    "overlapcoeff = []\n",
    "\n",
    "\n",
    "with open('phemeTraining.txt') as f:\n",
    "\tfor line in f:\n",
    "\t\tsentence = line.replace('\\'','').lower().split('\\t') #replace('\\n', '').\n",
    "\t\tsentences.append(sentence)\n",
    "\n",
    "with open('phemeTesting.txt') as f:\n",
    "\tfor line in f:\n",
    "\t\tsentence = line.replace('\\'','').lower().split('\\t')\n",
    "\t\tsentences.append(sentence)\n",
    "\n",
    "print(len(sentences))\n",
    "print(sentences[0])\n",
    "\n",
    "for line in sentences:\n",
    "\t#print(line)\n",
    "    if line[1] != 'yes':\n",
    "        sentenceA.append(line[3])\n",
    "        texts.append(line[3])\n",
    "        sentenceB.append(line[4])\n",
    "        texts.append(line[4])\n",
    "        label = line[1]\n",
    "        if label == 'contradiction':\n",
    "            classLabel.append(\"CONTRADICTION\")\n",
    "        elif label == 'unknown':\n",
    "            classLabel.append(\"NEUTRAL\")\n",
    "        else:\n",
    "            print(line[3])\n",
    "        \n",
    "        text1 = line[3].replace(',','').replace('\\'','').replace(\".\",'').replace(\"?\",'').replace('-',' ').replace(\"!\",'').lower()\n",
    "        text2 = line[4].replace(',','').replace('\\'','').replace(\".\",'').replace(\"?\",'').replace('-',' ').replace(\"!\",'').lower()\n",
    "        iou.append(IOU(text1,text2))\n",
    "        negation.append(Negation(text1,text2))\n",
    "        antonym.append(antonymCheck(text1, text2))\n",
    "        overlapcoeff.append(Overlap(text1, text2))\n",
    "\n",
    "print(\"total sentences: \", len(sentences))        \n",
    "print(len(sentenceA), len(sentenceB), len(classLabel))\n",
    "\n",
    "print(len(iou), len(negation), len(antonym), len(overlapcoeff))\n",
    "\n",
    "# finally, vectorize the text samples into a 2D integer tensor\n",
    "tokenizer = Tokenizer(num_words=400000)\n",
    "tokenizer.fit_on_texts(texts)\n",
    "\n",
    "word_index = tokenizer.word_index\n",
    "print('Found %s unique tokens.' % len(word_index))\n",
    "\n",
    "embeddedVecA = []\n",
    "embeddedVecB = []\n",
    "for sen in sentenceA:\n",
    "\temb = []\n",
    "\tfor word in sen.split():\n",
    "\t\tif word_index.get(word) is not None:\n",
    "\t\t\temb.append(word_index.get(word))\n",
    "\t\telse:\n",
    "\t\t\temb.append(0)\n",
    "\tembeddedVecA.append(emb)\n",
    "\n",
    "for sen in sentenceB:\n",
    "\temb = []\n",
    "\tfor word in sen.split():\n",
    "\t\tif word_index.get(word) is not None:\n",
    "\t\t\temb.append(word_index.get(word))\n",
    "\t\telse:\n",
    "\t\t\temb.append(0)\n",
    "\tembeddedVecB.append(emb)\n",
    "\n",
    "encoder = LabelEncoder()\n",
    "encoder.fit(classLabel)\n",
    "encoded_Y = encoder.transform(classLabel)\n",
    "onehot = np.array(np_utils.to_categorical(encoded_Y))\n",
    "\n",
    "vectorA = pad_sequences(embeddedVecA, maxlen=40, padding='post')\n",
    "vectorB = pad_sequences(embeddedVecB, maxlen=40, padding='post')"
   ]
  },
  {
   "cell_type": "code",
   "execution_count": 121,
   "metadata": {
    "collapsed": false
   },
   "outputs": [
    {
     "name": "stdout",
     "output_type": "stream",
     "text": [
      "427\n",
      "866\n"
     ]
    }
   ],
   "source": [
    "print(classLabel.count(\"CONTRADICTION\"))\n",
    "print(classLabel.count(\"NEUTRAL\"))"
   ]
  },
  {
   "cell_type": "markdown",
   "metadata": {},
   "source": [
    "### Split data to test-train sets"
   ]
  },
  {
   "cell_type": "code",
   "execution_count": 122,
   "metadata": {
    "collapsed": false
   },
   "outputs": [
    {
     "name": "stdout",
     "output_type": "stream",
     "text": [
      "vecAtrain (906, 40)\n",
      "vecBtrain (906, 40)\n",
      "y_train (906, 2)\n",
      "vecAtest (387, 40)\n",
      "vecBtest (387, 40)\n",
      "y_test (387, 2)\n",
      "iou shape (1293,)\n",
      "negation shape (1293,)\n",
      "antonym shape (1293,)\n",
      "overlapcoeff shape (1293,)\n"
     ]
    }
   ],
   "source": [
    "vecAtrain = vectorA[:906]\n",
    "vecBtrain = vectorB[:906]\n",
    "y_train = onehot[:906]\n",
    "\n",
    "print(\"vecAtrain\", vecAtrain.shape)\n",
    "print(\"vecBtrain\", vecBtrain.shape)\n",
    "print(\"y_train\", y_train.shape)\n",
    "\n",
    "vecAtest = vectorA[906:]\n",
    "vecBtest = vectorB[906:]\n",
    "y_test = onehot[906:]\n",
    "\n",
    "print(\"vecAtest\", vecAtest.shape)\n",
    "print(\"vecBtest\", vecBtest.shape)\n",
    "print(\"y_test\", y_test.shape)\n",
    "\n",
    "iou = np.array(iou)\n",
    "negation = np.array(negation)\n",
    "antonym = np.array(antonym)\n",
    "overlapcoeff = np.array(overlapcoeff)\n",
    "\n",
    "iou_train = iou[:906]\n",
    "negation_train = negation[:906]\n",
    "antonym_train = antonym[:906]\n",
    "overlapcoeff_train = overlapcoeff[:906]\n",
    "\n",
    "iou_test = iou[906:]\n",
    "negation_test = negation[906:]\n",
    "antonym_test = antonym[906:]\n",
    "overlapcoeff_test = overlapcoeff[906:]\n",
    "\n",
    "print(\"iou shape\", iou.shape)\n",
    "print(\"negation shape\", negation.shape)\n",
    "print(\"antonym shape\", antonym.shape)\n",
    "print(\"overlapcoeff shape\", antonym.shape)"
   ]
  },
  {
   "cell_type": "markdown",
   "metadata": {},
   "source": [
    "### Prepare embedding layer"
   ]
  },
  {
   "cell_type": "code",
   "execution_count": 123,
   "metadata": {
    "collapsed": false
   },
   "outputs": [
    {
     "name": "stdout",
     "output_type": "stream",
     "text": [
      "Preparing embedding matrix.\n",
      "word_index 589\n",
      "done!\n"
     ]
    }
   ],
   "source": [
    "print('Preparing embedding matrix.')\n",
    "\n",
    "print(\"word_index\",len(word_index))\n",
    "num_words = 400000\n",
    "embedding_matrix = np.zeros((400001, EMBEDDING_DIM))\n",
    "for word, i in word_index.items():\n",
    "    embedding_vector = embeddings_index.get(word)\n",
    "    if embedding_vector is not None:\n",
    "        # words not found in embedding index will be all-zeros.\n",
    "        embedding_matrix[i] = embedding_vector\n",
    "\n",
    "# load pre-trained word embeddings into an Embedding layer\n",
    "# note that we set trainable = False so as to keep the embeddings fixed\n",
    "embedding_layer = Embedding(num_words+1, EMBEDDING_DIM, weights=[embedding_matrix], input_length=40, trainable=False)\n",
    "print(\"done!\")"
   ]
  },
  {
   "cell_type": "markdown",
   "metadata": {},
   "source": [
    "### Network architecture"
   ]
  },
  {
   "cell_type": "code",
   "execution_count": 124,
   "metadata": {
    "collapsed": false
   },
   "outputs": [
    {
     "name": "stdout",
     "output_type": "stream",
     "text": [
      "__________________________________________________________________________________________________\n",
      "Layer (type)                    Output Shape         Param #     Connected to                     \n",
      "==================================================================================================\n",
      "iou (InputLayer)                (None, 1)            0                                            \n",
      "__________________________________________________________________________________________________\n",
      "negate (InputLayer)             (None, 1)            0                                            \n",
      "__________________________________________________________________________________________________\n",
      "antonym (InputLayer)            (None, 1)            0                                            \n",
      "__________________________________________________________________________________________________\n",
      "overlap (InputLayer)            (None, 1)            0                                            \n",
      "__________________________________________________________________________________________________\n",
      "concatenate_8 (Concatenate)     (None, 4)            0           iou[0][0]                        \n",
      "                                                                 negate[0][0]                     \n",
      "                                                                 antonym[0][0]                    \n",
      "                                                                 overlap[0][0]                    \n",
      "__________________________________________________________________________________________________\n",
      "dense_41 (Dense)                (None, 5)            25          concatenate_8[0][0]              \n",
      "__________________________________________________________________________________________________\n",
      "dense_42 (Dense)                (None, 2)            12          dense_41[0][0]                   \n",
      "==================================================================================================\n",
      "Total params: 37\n",
      "Trainable params: 37\n",
      "Non-trainable params: 0\n",
      "__________________________________________________________________________________________________\n",
      "Train on 906 samples, validate on 387 samples\n",
      "Epoch 1/30\n",
      "906/906 [==============================] - 8s - loss: 0.6922 - acc: 0.6623 - val_loss: 0.6859 - val_acc: 0.6718\n",
      "Epoch 2/30\n",
      "906/906 [==============================] - 0s - loss: 0.6853 - acc: 0.6689 - val_loss: 0.6800 - val_acc: 0.6718\n",
      "Epoch 3/30\n",
      "906/906 [==============================] - 0s - loss: 0.6797 - acc: 0.6689 - val_loss: 0.6746 - val_acc: 0.6718\n",
      "Epoch 4/30\n",
      "906/906 [==============================] - 0s - loss: 0.6744 - acc: 0.6689 - val_loss: 0.6700 - val_acc: 0.6718\n",
      "Epoch 5/30\n",
      "906/906 [==============================] - 0s - loss: 0.6699 - acc: 0.6689 - val_loss: 0.6657 - val_acc: 0.6718\n",
      "Epoch 6/30\n",
      "906/906 [==============================] - 0s - loss: 0.6658 - acc: 0.6689 - val_loss: 0.6617 - val_acc: 0.6718\n",
      "Epoch 7/30\n",
      "906/906 [==============================] - 0s - loss: 0.6617 - acc: 0.6689 - val_loss: 0.6578 - val_acc: 0.6718\n",
      "Epoch 8/30\n",
      "906/906 [==============================] - 0s - loss: 0.6580 - acc: 0.6689 - val_loss: 0.6540 - val_acc: 0.6718\n",
      "Epoch 9/30\n",
      "906/906 [==============================] - 0s - loss: 0.6544 - acc: 0.6689 - val_loss: 0.6509 - val_acc: 0.6718\n",
      "Epoch 10/30\n",
      "906/906 [==============================] - 0s - loss: 0.6512 - acc: 0.6689 - val_loss: 0.6479 - val_acc: 0.6718\n",
      "Epoch 11/30\n",
      "906/906 [==============================] - 0s - loss: 0.6483 - acc: 0.6689 - val_loss: 0.6450 - val_acc: 0.6718\n",
      "Epoch 12/30\n",
      "906/906 [==============================] - 0s - loss: 0.6453 - acc: 0.6689 - val_loss: 0.6420 - val_acc: 0.6718\n",
      "Epoch 13/30\n",
      "906/906 [==============================] - 0s - loss: 0.6423 - acc: 0.6689 - val_loss: 0.6390 - val_acc: 0.6718\n",
      "Epoch 14/30\n",
      "906/906 [==============================] - 0s - loss: 0.6395 - acc: 0.6689 - val_loss: 0.6360 - val_acc: 0.6718\n",
      "Epoch 15/30\n",
      "906/906 [==============================] - 0s - loss: 0.6368 - acc: 0.6689 - val_loss: 0.6339 - val_acc: 0.6718\n",
      "Epoch 16/30\n",
      "906/906 [==============================] - 0s - loss: 0.6343 - acc: 0.6689 - val_loss: 0.6315 - val_acc: 0.6718\n",
      "Epoch 17/30\n",
      "906/906 [==============================] - 0s - loss: 0.6318 - acc: 0.6689 - val_loss: 0.6292 - val_acc: 0.6718\n",
      "Epoch 18/30\n",
      "906/906 [==============================] - 0s - loss: 0.6295 - acc: 0.6689 - val_loss: 0.6268 - val_acc: 0.6718\n",
      "Epoch 19/30\n",
      "906/906 [==============================] - 0s - loss: 0.6270 - acc: 0.6689 - val_loss: 0.6244 - val_acc: 0.6718\n",
      "Epoch 20/30\n",
      "906/906 [==============================] - 0s - loss: 0.6247 - acc: 0.6689 - val_loss: 0.6221 - val_acc: 0.6718\n",
      "Epoch 21/30\n",
      "906/906 [==============================] - 0s - loss: 0.6224 - acc: 0.6689 - val_loss: 0.6201 - val_acc: 0.6744\n",
      "Epoch 22/30\n",
      "906/906 [==============================] - 0s - loss: 0.6204 - acc: 0.6711 - val_loss: 0.6182 - val_acc: 0.6744\n",
      "Epoch 23/30\n",
      "906/906 [==============================] - 0s - loss: 0.6180 - acc: 0.6711 - val_loss: 0.6161 - val_acc: 0.6744\n",
      "Epoch 24/30\n",
      "906/906 [==============================] - 0s - loss: 0.6159 - acc: 0.6711 - val_loss: 0.6139 - val_acc: 0.6744\n",
      "Epoch 25/30\n",
      "906/906 [==============================] - 0s - loss: 0.6137 - acc: 0.6711 - val_loss: 0.6117 - val_acc: 0.6744\n",
      "Epoch 26/30\n",
      "906/906 [==============================] - 0s - loss: 0.6114 - acc: 0.6711 - val_loss: 0.6096 - val_acc: 0.6744\n",
      "Epoch 27/30\n",
      "906/906 [==============================] - 0s - loss: 0.6093 - acc: 0.6733 - val_loss: 0.6076 - val_acc: 0.6744\n",
      "Epoch 28/30\n",
      "906/906 [==============================] - 0s - loss: 0.6071 - acc: 0.6755 - val_loss: 0.6056 - val_acc: 0.6744\n",
      "Epoch 29/30\n",
      "906/906 [==============================] - 0s - loss: 0.6050 - acc: 0.6755 - val_loss: 0.6036 - val_acc: 0.6744\n",
      "Epoch 30/30\n",
      "906/906 [==============================] - 0s - loss: 0.6028 - acc: 0.6755 - val_loss: 0.6015 - val_acc: 0.6796\n"
     ]
    }
   ],
   "source": [
    "### Model without automated feature\n",
    "from keras.callbacks import EarlyStopping, ReduceLROnPlateau\n",
    "\n",
    "ioou = Input(shape=(1,), dtype='float32', name='iou')\n",
    "negate = Input(shape=(1,), dtype='float32', name='negate')\n",
    "antonym = Input(shape=(1,), dtype='float32', name='antonym')\n",
    "overlap = Input(shape=(1,), dtype='float32', name='overlap')\n",
    "mix = keras.layers.concatenate([ioou, negate, antonym, overlap], axis=-1)\n",
    "mix = Dense(5, activation ='relu', kernel_initializer='he_normal')(mix)\n",
    "main_output = Dense(2, activation='softmax')(mix)\n",
    "\n",
    "model = Model(inputs=[ioou, negate, antonym, overlap], outputs=[main_output])\n",
    "model.compile(optimizer='adam', loss='categorical_crossentropy',  metrics=['accuracy'])\n",
    "#tensorboard = TensorBoard(log_dir='./logs', histogram_freq=1,embeddings_freq = 1,embeddings_layer_names = None, write_graph=True, write_images=False)\n",
    "# plot_model(model, to_file='model2_final.png')\n",
    "early_stopping_monitor = EarlyStopping(monitor='val_loss', patience=2, verbose=1, mode='auto')\n",
    "reduce_lr = ReduceLROnPlateau(monitor='val_loss', factor=0.2, patience=2, min_lr=0.001)\n",
    "model.summary()\n",
    "history = model.fit(x =[iou_train, negation_train, antonym_train, overlapcoeff_train], y = [y_train], validation_data=([iou_test, negation_test, antonym_test, overlapcoeff_test], y_test),verbose=1, epochs=30, batch_size=64, callbacks=[early_stopping_monitor, reduce_lr]) #, callbacks=[tensorboard]\n",
    "model.save('final_FC_model_Semeval.h5')"
   ]
  },
  {
   "cell_type": "code",
   "execution_count": 136,
   "metadata": {
    "collapsed": false
   },
   "outputs": [
    {
     "name": "stdout",
     "output_type": "stream",
     "text": [
      "emb_x:  Tensor(\"embedding_2/Gather:0\", shape=(?, 40, 300), dtype=float32)\n",
      "emb_y:  Tensor(\"embedding_2_1/Gather:0\", shape=(?, 40, 300), dtype=float32)\n",
      "__________________________________________________________________________________________________\n",
      "Layer (type)                    Output Shape         Param #     Connected to                     \n",
      "==================================================================================================\n",
      "senA (InputLayer)               (None, 40)           0                                            \n",
      "__________________________________________________________________________________________________\n",
      "senB (InputLayer)               (None, 40)           0                                            \n",
      "__________________________________________________________________________________________________\n",
      "embedding_2 (Embedding)         (None, 40, 300)      120000300   senA[0][0]                       \n",
      "                                                                 senB[0][0]                       \n",
      "__________________________________________________________________________________________________\n",
      "bidirectional_18 (Bidirectional (None, 128)          186880      embedding_2[0][0]                \n",
      "                                                                 embedding_2[1][0]                \n",
      "__________________________________________________________________________________________________\n",
      "subtract_17 (Subtract)          (None, 128)          0           bidirectional_18[0][0]           \n",
      "                                                                 bidirectional_18[1][0]           \n",
      "__________________________________________________________________________________________________\n",
      "dense_43 (Dense)                (None, 8)            1032        subtract_17[0][0]                \n",
      "__________________________________________________________________________________________________\n",
      "dropout_14 (Dropout)            (None, 8)            0           dense_43[0][0]                   \n",
      "__________________________________________________________________________________________________\n",
      "dense_44 (Dense)                (None, 2)            18          dropout_14[0][0]                 \n",
      "==================================================================================================\n",
      "Total params: 120,188,230\n",
      "Trainable params: 187,930\n",
      "Non-trainable params: 120,000,300\n",
      "__________________________________________________________________________________________________\n",
      "Train on 906 samples, validate on 387 samples\n",
      "Epoch 1/30\n",
      "906/906 [==============================] - 17s - loss: 0.6785 - acc: 0.6026 - val_loss: 0.6533 - val_acc: 0.7106\n",
      "Epoch 2/30\n",
      "906/906 [==============================] - 5s - loss: 0.6222 - acc: 0.7053 - val_loss: 0.6099 - val_acc: 0.6822\n",
      "Epoch 3/30\n",
      "906/906 [==============================] - 5s - loss: 0.5589 - acc: 0.7075 - val_loss: 0.5533 - val_acc: 0.7183\n",
      "Epoch 4/30\n",
      "906/906 [==============================] - 5s - loss: 0.5052 - acc: 0.7230 - val_loss: 0.4840 - val_acc: 0.7442\n",
      "Epoch 5/30\n",
      "906/906 [==============================] - 5s - loss: 0.4412 - acc: 0.7638 - val_loss: 0.4329 - val_acc: 0.7959\n",
      "Epoch 6/30\n",
      "906/906 [==============================] - 5s - loss: 0.4044 - acc: 0.7792 - val_loss: 0.3731 - val_acc: 0.8398\n",
      "Epoch 7/30\n",
      "906/906 [==============================] - 6s - loss: 0.3559 - acc: 0.8024 - val_loss: 0.3423 - val_acc: 0.8553\n",
      "Epoch 8/30\n",
      "906/906 [==============================] - 5s - loss: 0.3379 - acc: 0.7848 - val_loss: 0.3172 - val_acc: 0.8889\n",
      "Epoch 9/30\n",
      "906/906 [==============================] - 5s - loss: 0.3026 - acc: 0.8234 - val_loss: 0.2992 - val_acc: 0.9044\n",
      "Epoch 10/30\n",
      "906/906 [==============================] - 5s - loss: 0.2924 - acc: 0.8212 - val_loss: 0.2708 - val_acc: 0.9199\n",
      "Epoch 11/30\n",
      "906/906 [==============================] - 5s - loss: 0.2806 - acc: 0.8389 - val_loss: 0.2570 - val_acc: 0.9121\n",
      "Epoch 12/30\n",
      "906/906 [==============================] - 5s - loss: 0.2523 - acc: 0.8422 - val_loss: 0.2604 - val_acc: 0.9225\n",
      "Epoch 13/30\n",
      "906/906 [==============================] - 5s - loss: 0.2418 - acc: 0.8389 - val_loss: 0.2385 - val_acc: 0.9147\n",
      "Epoch 14/30\n",
      "906/906 [==============================] - 5s - loss: 0.2567 - acc: 0.8366 - val_loss: 0.2517 - val_acc: 0.9147\n",
      "Epoch 15/30\n",
      "906/906 [==============================] - 5s - loss: 0.2333 - acc: 0.8488 - val_loss: 0.2280 - val_acc: 0.9535\n",
      "Epoch 16/30\n",
      "906/906 [==============================] - 5s - loss: 0.2136 - acc: 0.8819 - val_loss: 0.2265 - val_acc: 0.9432\n",
      "Epoch 17/30\n",
      "906/906 [==============================] - 5s - loss: 0.2206 - acc: 0.8554 - val_loss: 0.2161 - val_acc: 0.9509\n",
      "Epoch 18/30\n",
      "906/906 [==============================] - 5s - loss: 0.2164 - acc: 0.8742 - val_loss: 0.2252 - val_acc: 0.9354\n",
      "Epoch 19/30\n",
      "906/906 [==============================] - 5s - loss: 0.2027 - acc: 0.8764 - val_loss: 0.1991 - val_acc: 0.9587\n",
      "Epoch 20/30\n",
      "906/906 [==============================] - 5s - loss: 0.2198 - acc: 0.8576 - val_loss: 0.2136 - val_acc: 0.9483\n",
      "Epoch 21/30\n",
      "906/906 [==============================] - 9s - loss: 0.2105 - acc: 0.8631 - val_loss: 0.2211 - val_acc: 0.9561\n",
      "Epoch 00020: early stopping\n"
     ]
    }
   ],
   "source": [
    "### LSTM Model\n",
    "\n",
    "from keras.callbacks import EarlyStopping, ReduceLROnPlateau\n",
    "\n",
    "senA = Input(shape=(40,), dtype='int32', name='senA')\n",
    "emb_x = embedding_layer(senA)\n",
    "print(\"emb_x: \", emb_x)\n",
    "senB = Input(shape=(40,), dtype='int32', name='senB')\n",
    "emb_y = embedding_layer(senB)   \n",
    "print(\"emb_y: \", emb_y)\n",
    "\n",
    "shared_lstm = Bidirectional(LSTM(64, activation = 'tanh')) #return_sequences=True,\n",
    "x = shared_lstm(emb_x)\n",
    "#x = AttentionWithContext()(x)\n",
    "y = shared_lstm(emb_y)\n",
    "#y = AttentionWithContext()(y)\n",
    "\n",
    "# mix = keras.layers.Dot([x,y], axes=1, normalize=True)\n",
    "mix = keras.layers.Subtract()([x, y]) # #, axis=-1\n",
    "#x = AttentionWithContext()(mix)\n",
    "x = Dense(8, activation='relu', kernel_initializer='he_normal')(mix)\n",
    "x = Dropout(0.5)(x)\n",
    "out = Dense(2, activation ='softmax', kernel_initializer='he_normal')(x)\n",
    "model = Model(inputs=[senA, senB], outputs=[out])\n",
    "model.summary()\n",
    "model.compile(optimizer='adam', loss='categorical_crossentropy',  metrics=['accuracy'])\n",
    "#tensorboard = TensorBoard(log_dir='./logs', histogram_freq=1,embeddings_freq = 1,embeddings_layer_names = None, write_graph=True, write_images=False)\n",
    "# plot_model(model, to_file='model2_final.png')\n",
    "early_stopping_monitor = EarlyStopping(monitor='val_loss', patience=1, verbose=5, mode='auto')\n",
    "reduce_lr = ReduceLROnPlateau(monitor='val_loss', factor=0.5, patience=1, min_lr=0.00001)\n",
    "history = model.fit(x =[vecAtrain, vecBtrain], y = [y_train], validation_data=([vecAtest, vecBtest], y_test),verbose=1, epochs=30, batch_size=64, callbacks=[early_stopping_monitor, reduce_lr]) #, callbacks=[tensorboard]\n",
    "model.save('semeval_auto_model.h5')\n"
   ]
  },
  {
   "cell_type": "code",
   "execution_count": 147,
   "metadata": {
    "collapsed": false
   },
   "outputs": [
    {
     "name": "stdout",
     "output_type": "stream",
     "text": [
      "emb_x:  Tensor(\"embedding_2_2/Gather:0\", shape=(?, 40, 300), dtype=float32)\n",
      "emb_y:  Tensor(\"embedding_2_3/Gather:0\", shape=(?, 40, 300), dtype=float32)\n",
      "Train on 906 samples, validate on 387 samples\n",
      "Epoch 1/30\n",
      "906/906 [==============================] - 18s - loss: 0.6772 - acc: 0.6987 - val_loss: 0.6424 - val_acc: 0.6718\n",
      "Epoch 2/30\n",
      "906/906 [==============================] - 5s - loss: 0.6213 - acc: 0.6689 - val_loss: 0.5757 - val_acc: 0.6718\n",
      "Epoch 3/30\n",
      "906/906 [==============================] - 5s - loss: 0.5621 - acc: 0.6689 - val_loss: 0.5070 - val_acc: 0.6718\n",
      "Epoch 4/30\n",
      "906/906 [==============================] - 5s - loss: 0.4998 - acc: 0.6689 - val_loss: 0.4543 - val_acc: 0.6718\n",
      "Epoch 5/30\n",
      "906/906 [==============================] - 5s - loss: 0.4539 - acc: 0.6689 - val_loss: 0.4144 - val_acc: 0.6718\n",
      "Epoch 6/30\n",
      "906/906 [==============================] - 5s - loss: 0.4178 - acc: 0.6689 - val_loss: 0.3838 - val_acc: 0.6718\n",
      "Epoch 7/30\n",
      "906/906 [==============================] - 5s - loss: 0.3961 - acc: 0.6689 - val_loss: 0.3666 - val_acc: 0.6718\n",
      "Epoch 8/30\n",
      "906/906 [==============================] - 4s - loss: 0.3672 - acc: 0.6689 - val_loss: 0.3407 - val_acc: 0.6718\n",
      "Epoch 9/30\n",
      "906/906 [==============================] - 4s - loss: 0.3463 - acc: 0.6689 - val_loss: 0.3243 - val_acc: 0.9251\n",
      "Epoch 10/30\n",
      "906/906 [==============================] - 5s - loss: 0.3344 - acc: 0.9161 - val_loss: 0.3134 - val_acc: 0.9535\n",
      "Epoch 11/30\n",
      "906/906 [==============================] - 6s - loss: 0.3134 - acc: 0.9481 - val_loss: 0.2935 - val_acc: 0.9716\n",
      "Epoch 12/30\n",
      "906/906 [==============================] - 6s - loss: 0.2999 - acc: 0.9492 - val_loss: 0.2906 - val_acc: 0.9638\n",
      "Epoch 13/30\n",
      "906/906 [==============================] - 4s - loss: 0.2916 - acc: 0.9603 - val_loss: 0.2769 - val_acc: 0.9716\n",
      "Epoch 14/30\n",
      "906/906 [==============================] - 5s - loss: 0.2782 - acc: 0.9669 - val_loss: 0.2695 - val_acc: 0.9871\n",
      "Epoch 15/30\n",
      "906/906 [==============================] - 5s - loss: 0.2776 - acc: 0.9691 - val_loss: 0.2613 - val_acc: 0.9690\n",
      "Epoch 16/30\n",
      "906/906 [==============================] - 5s - loss: 0.2609 - acc: 0.9702 - val_loss: 0.2544 - val_acc: 0.9767\n",
      "Epoch 17/30\n",
      "906/906 [==============================] - 5s - loss: 0.2571 - acc: 0.9636 - val_loss: 0.2490 - val_acc: 0.9793\n",
      "Epoch 18/30\n",
      "906/906 [==============================] - 5s - loss: 0.2505 - acc: 0.9691 - val_loss: 0.2406 - val_acc: 0.9871\n",
      "Epoch 19/30\n",
      "906/906 [==============================] - 5s - loss: 0.2438 - acc: 0.9702 - val_loss: 0.2456 - val_acc: 0.9793\n",
      "Epoch 20/30\n",
      "906/906 [==============================] - 5s - loss: 0.2444 - acc: 0.9735 - val_loss: 0.2270 - val_acc: 0.9897\n",
      "Epoch 21/30\n",
      "906/906 [==============================] - 5s - loss: 0.2288 - acc: 0.9724 - val_loss: 0.2202 - val_acc: 0.9871\n",
      "Epoch 22/30\n",
      "906/906 [==============================] - 5s - loss: 0.2242 - acc: 0.9713 - val_loss: 0.2134 - val_acc: 0.9897\n",
      "Epoch 23/30\n",
      "906/906 [==============================] - 6s - loss: 0.2138 - acc: 0.9790 - val_loss: 0.2062 - val_acc: 0.9922\n",
      "Epoch 24/30\n",
      "906/906 [==============================] - 6s - loss: 0.2148 - acc: 0.9702 - val_loss: 0.2013 - val_acc: 0.9922\n",
      "Epoch 25/30\n",
      "906/906 [==============================] - 5s - loss: 0.2029 - acc: 0.9790 - val_loss: 0.1972 - val_acc: 0.9922\n",
      "Epoch 26/30\n",
      "906/906 [==============================] - 5s - loss: 0.1915 - acc: 0.9845 - val_loss: 0.1947 - val_acc: 0.9871\n",
      "Epoch 27/30\n",
      "906/906 [==============================] - 5s - loss: 0.1922 - acc: 0.9812 - val_loss: 0.1883 - val_acc: 0.9922\n",
      "Epoch 28/30\n",
      "906/906 [==============================] - 6s - loss: 0.1889 - acc: 0.9790 - val_loss: 0.1843 - val_acc: 0.9922\n",
      "Epoch 29/30\n",
      "906/906 [==============================] - 5s - loss: 0.1826 - acc: 0.9812 - val_loss: 0.1828 - val_acc: 0.9897\n",
      "Epoch 30/30\n",
      "906/906 [==============================] - 5s - loss: 0.1859 - acc: 0.9724 - val_loss: 0.1782 - val_acc: 0.9897\n"
     ]
    }
   ],
   "source": [
    "from keras.callbacks import EarlyStopping, ReduceLROnPlateau\n",
    "\n",
    "senA = Input(shape=(40,), dtype='int32', name='senA')\n",
    "emb_x = embedding_layer(senA)\n",
    "print(\"emb_x: \", emb_x)\n",
    "senB = Input(shape=(40,), dtype='int32', name='senB')\n",
    "emb_y = embedding_layer(senB)   \n",
    "print(\"emb_y: \", emb_y)\n",
    "\n",
    "shared_lstm = Bidirectional(LSTM(64, activation = 'tanh')) #return_sequences=True,\n",
    "x = shared_lstm(emb_x)\n",
    "# x = AttentionWithContext()(x)\n",
    "y = shared_lstm(emb_y)\n",
    "# y = AttentionWithContext()(y)\n",
    "\n",
    "# mix = keras.layers.Dot([x,y], axes=1, normalize=True)\n",
    "mix = keras.layers.Subtract()([x, y]) #, axis=-1\n",
    "# x = AttentionWithContext()(mix)\n",
    "x = Dense(8, activation='relu', kernel_initializer='he_normal')(mix)\n",
    "x = Dropout(0.5)(x)\n",
    "x = Dense(1, activation ='tanh', kernel_initializer='he_normal')(x)\n",
    "ioou = Input(shape=(1,), dtype='float32', name='iou')\n",
    "negate = Input(shape=(1,), dtype='float32', name='negate')\n",
    "antonym = Input(shape=(1,), dtype='float32', name='antonym')\n",
    "overlap = Input(shape=(1,), dtype='float32', name='overlap')\n",
    "mix = keras.layers.concatenate([x, ioou, negate, antonym, overlap], axis=-1)\n",
    "mix = Dense(5, activation ='relu', kernel_initializer='he_normal')(mix)\n",
    "main_output = Dense(2, activation='softmax')(mix)\n",
    "\n",
    "model = Model(inputs=[senA, senB, ioou, negate, antonym, overlap], outputs=[main_output])\n",
    "model.compile(optimizer='adam', loss='categorical_crossentropy',  metrics=['accuracy'])\n",
    "#tensorboard = TensorBoard(log_dir='./logs', histogram_freq=1,embeddings_freq = 1,embeddings_layer_names = None, write_graph=True, write_images=False)\n",
    "# plot_model(model, to_file='model2_final.png')\n",
    "early_stopping_monitor = EarlyStopping(monitor='val_loss', patience=5, verbose=1, mode='auto')\n",
    "reduce_lr = ReduceLROnPlateau(monitor='val_loss', factor=0.2, patience=5, min_lr=0.00001)\n",
    "history = model.fit(x =[vecAtrain, vecBtrain, iou_train, negation_train, antonym_train, overlapcoeff_train], y = [y_train], validation_data=([vecAtest, vecBtest, iou_test, negation_test, antonym_test, overlapcoeff_test], y_test),verbose=1, epochs=30, batch_size=64, callbacks=[early_stopping_monitor, reduce_lr]) #, callbacks=[tensorboard]\n",
    "model.save('final_pheme_model.h5')\n",
    "#model.load_weights(\"final_bilstm_model.h5\")"
   ]
  },
  {
   "cell_type": "markdown",
   "metadata": {},
   "source": [
    "### Model summary"
   ]
  },
  {
   "cell_type": "code",
   "execution_count": 10,
   "metadata": {
    "collapsed": false
   },
   "outputs": [
    {
     "name": "stdout",
     "output_type": "stream",
     "text": [
      "__________________________________________________________________________________________________\n",
      "Layer (type)                    Output Shape         Param #     Connected to                     \n",
      "==================================================================================================\n",
      "senA (InputLayer)               (None, 40)           0                                            \n",
      "__________________________________________________________________________________________________\n",
      "senB (InputLayer)               (None, 40)           0                                            \n",
      "__________________________________________________________________________________________________\n",
      "embedding_1 (Embedding)         (None, 40, 300)      120000300   senA[0][0]                       \n",
      "                                                                 senB[0][0]                       \n",
      "__________________________________________________________________________________________________\n",
      "bidirectional_1 (Bidirectional) (None, 128)          186880      embedding_1[0][0]                \n",
      "                                                                 embedding_1[1][0]                \n",
      "__________________________________________________________________________________________________\n",
      "subtract_1 (Subtract)           (None, 128)          0           bidirectional_1[0][0]            \n",
      "                                                                 bidirectional_1[1][0]            \n",
      "__________________________________________________________________________________________________\n",
      "dense_1 (Dense)                 (None, 8)            1032        subtract_1[0][0]                 \n",
      "__________________________________________________________________________________________________\n",
      "dropout_1 (Dropout)             (None, 8)            0           dense_1[0][0]                    \n",
      "__________________________________________________________________________________________________\n",
      "dense_2 (Dense)                 (None, 1)            9           dropout_1[0][0]                  \n",
      "__________________________________________________________________________________________________\n",
      "ioou (InputLayer)               (None, 1)            0                                            \n",
      "__________________________________________________________________________________________________\n",
      "negate (InputLayer)             (None, 1)            0                                            \n",
      "__________________________________________________________________________________________________\n",
      "antonym (InputLayer)            (None, 1)            0                                            \n",
      "__________________________________________________________________________________________________\n",
      "overlap (InputLayer)            (None, 1)            0                                            \n",
      "__________________________________________________________________________________________________\n",
      "concatenate_1 (Concatenate)     (None, 5)            0           dense_2[0][0]                    \n",
      "                                                                 ioou[0][0]                       \n",
      "                                                                 negate[0][0]                     \n",
      "                                                                 antonym[0][0]                    \n",
      "                                                                 overlap[0][0]                    \n",
      "__________________________________________________________________________________________________\n",
      "dense_3 (Dense)                 (None, 5)            30          concatenate_1[0][0]              \n",
      "__________________________________________________________________________________________________\n",
      "dense_4 (Dense)                 (None, 2)            12          dense_3[0][0]                    \n",
      "==================================================================================================\n",
      "Total params: 120,188,263\n",
      "Trainable params: 187,963\n",
      "Non-trainable params: 120,000,300\n",
      "__________________________________________________________________________________________________\n"
     ]
    }
   ],
   "source": [
    "model.summary()"
   ]
  },
  {
   "cell_type": "markdown",
   "metadata": {},
   "source": [
    "### Model architecture illustration (ENSEMBLE)"
   ]
  },
  {
   "cell_type": "markdown",
   "metadata": {},
   "source": [
    "![title](final_arch.png)"
   ]
  },
  {
   "cell_type": "markdown",
   "metadata": {},
   "source": [
    "### Histogram of y-hat"
   ]
  },
  {
   "cell_type": "code",
   "execution_count": 149,
   "metadata": {
    "collapsed": false
   },
   "outputs": [
    {
     "data": {
      "image/png": "[encoded data removed]",
      "text/plain": [
       "<matplotlib.figure.Figure at 0x24ff13668>"
      ]
     },
     "metadata": {},
     "output_type": "display_data"
    }
   ],
   "source": [
    "from sklearn.metrics import roc_auc_score \n",
    "import matplotlib.pyplot as plt\n",
    "\n",
    "y_hat = model.predict([vecAtest, vecBtest, iou_test, negation_test, antonym_test, overlapcoeff_test]) # \n",
    "plt.hist(y_hat)\n",
    "_ = plt.axvline(x=0.5, color='orange')\n",
    "plt.show()"
   ]
  },
  {
   "cell_type": "code",
   "execution_count": 150,
   "metadata": {
    "collapsed": false
   },
   "outputs": [
    {
     "data": {
      "text/plain": [
       "'ROC Score: 99.59'"
      ]
     },
     "execution_count": 150,
     "metadata": {},
     "output_type": "execute_result"
    }
   ],
   "source": [
    "\"ROC Score: \"+\"{:0.2f}\".format(roc_auc_score(y_test, y_hat)*100.0)"
   ]
  },
  {
   "cell_type": "code",
   "execution_count": 151,
   "metadata": {
    "collapsed": false
   },
   "outputs": [
    {
     "data": {
      "image/png": "[encoded data removed]",
      "text/plain": [
       "<matplotlib.figure.Figure at 0x24f35f128>"
      ]
     },
     "metadata": {},
     "output_type": "display_data"
    },
    {
     "data": {
      "image/png": "[encoded data removed]",
      "text/plain": [
       "<matplotlib.figure.Figure at 0x253184ef0>"
      ]
     },
     "metadata": {},
     "output_type": "display_data"
    }
   ],
   "source": [
    "import matplotlib.pyplot as plt\n",
    "plt.plot(history.history['acc'])\n",
    "plt.plot(history.history['val_acc'])\n",
    "plt.title('model accuracy')\n",
    "plt.ylabel('accuracy')\n",
    "plt.xlabel('epoch')\n",
    "plt.legend(['train', 'test'], loc='upper left')\n",
    "plt.show()\n",
    "# summarize history for loss\n",
    "plt.plot(history.history['loss'])\n",
    "plt.plot(history.history['val_loss'])\n",
    "plt.title('model loss')\n",
    "plt.ylabel('loss')\n",
    "plt.xlabel('epoch')\n",
    "plt.legend(['train', 'test'], loc='upper left')\n",
    "plt.show()"
   ]
  },
  {
   "cell_type": "markdown",
   "metadata": {},
   "source": [
    "### Confusion matrix"
   ]
  },
  {
   "cell_type": "code",
   "execution_count": 152,
   "metadata": {
    "collapsed": true
   },
   "outputs": [],
   "source": [
    "def plot_confusion_matrix(cm, classes,\n",
    "                          normalize=False,\n",
    "                          title='Confusion matrix',\n",
    "                          cmap=plt.cm.Blues):\n",
    "    \"\"\"\n",
    "    This function prints and plots the confusion matrix.\n",
    "    Normalization can be applied by setting `normalize=True`.\n",
    "    \"\"\"\n",
    "    if normalize:\n",
    "        cm = cm.astype('float') / cm.sum(axis=1)[:, np.newaxis]\n",
    "        print(\"Normalized confusion matrix\")\n",
    "    else:\n",
    "        print('Confusion matrix, without normalization')\n",
    "\n",
    "    print(cm)\n",
    "\n",
    "    plt.imshow(cm, interpolation='nearest', cmap=cmap)\n",
    "    plt.title(title)\n",
    "    plt.colorbar()\n",
    "    tick_marks = np.arange(len(classes))\n",
    "    plt.xticks(tick_marks, classes, rotation=45)\n",
    "    plt.yticks(tick_marks, classes)\n",
    "\n",
    "    fmt = '.2f' if normalize else 'd'\n",
    "    thresh = cm.max() / 2.\n",
    "    for i, j in itertools.product(range(cm.shape[0]), range(cm.shape[1])):\n",
    "        plt.text(j, i, format(cm[i, j], fmt),\n",
    "                 horizontalalignment=\"center\",\n",
    "                 color=\"white\" if cm[i, j] > thresh else \"black\")\n",
    "\n",
    "    plt.tight_layout()\n",
    "    plt.ylabel('True label')\n",
    "    plt.xlabel('Predicted label')"
   ]
  },
  {
   "cell_type": "code",
   "execution_count": 153,
   "metadata": {
    "collapsed": false
   },
   "outputs": [
    {
     "name": "stdout",
     "output_type": "stream",
     "text": [
      "Total number of contradictions:  127\n",
      "Total number of non_contradictions:  260\n",
      "Confusion matrix, without normalization\n",
      "[[123   4]\n",
      " [  0 260]]\n",
      "Normalized confusion matrix\n",
      "[[ 0.9685  0.0315]\n",
      " [ 0.      1.    ]]\n"
     ]
    },
    {
     "data": {
      "image/png": "[encoded data removed]",
      "text/plain": [
       "<matplotlib.figure.Figure at 0x24ff29898>"
      ]
     },
     "metadata": {},
     "output_type": "display_data"
    },
    {
     "data": {
      "image/png": "[encoded data removed]",
      "text/plain": [
       "<matplotlib.figure.Figure at 0x2535cfcf8>"
      ]
     },
     "metadata": {},
     "output_type": "display_data"
    }
   ],
   "source": [
    "from sklearn import svm, datasets\n",
    "from sklearn.model_selection import train_test_split\n",
    "from sklearn.metrics import confusion_matrix\n",
    "\n",
    "class_names = ['contradiction', 'not_contradiction']\n",
    "\n",
    "# Compute confusion matrix\n",
    "b = np.zeros_like(y_hat)\n",
    "b[np.arange(len(y_hat)), y_hat.argmax(1)] = 1\n",
    "b = b.astype(int)\n",
    "y_test = y_test.astype(int)\n",
    "\n",
    "y_true = []\n",
    "y_pred = []\n",
    "\n",
    "for l in y_test:\n",
    "    if l[0] == 1:\n",
    "        y_true.append(\"contradiction\")\n",
    "    else:\n",
    "        y_true.append(\"not_contradiction\")\n",
    "\n",
    "for l in b:\n",
    "    if l[0] == 1:\n",
    "        y_pred.append(\"contradiction\")\n",
    "    else:\n",
    "        y_pred.append(\"not_contradiction\")\n",
    "        \n",
    "\n",
    "print(\"Total number of contradictions: \", y_true.count(\"contradiction\"))\n",
    "print(\"Total number of non_contradictions: \", y_true.count(\"not_contradiction\"))\n",
    "\n",
    "cnf_matrix = confusion_matrix(y_true, y_pred, labels=class_names)\n",
    "np.set_printoptions(precision=4)\n",
    "\n",
    "# Plot non-normalized confusion matrix\n",
    "plt.figure()\n",
    "plot_confusion_matrix(cnf_matrix, classes=class_names,\n",
    "                      title='Confusion matrix, without normalization')\n",
    "# Plot normalized confusion matrix\n",
    "plt.figure()\n",
    "plot_confusion_matrix(cnf_matrix, classes=class_names, normalize=True,\n",
    "                      title='Normalized confusion matrix')\n",
    "\n",
    "plt.show()"
   ]
  },
  {
   "cell_type": "markdown",
   "metadata": {
    "collapsed": true
   },
   "source": [
    "### Scoring metrics (Precision, Recall, F1-score)"
   ]
  },
  {
   "cell_type": "code",
   "execution_count": 154,
   "metadata": {
    "collapsed": true
   },
   "outputs": [],
   "source": [
    "from sklearn.metrics import f1_score\n",
    "from sklearn.metrics import precision_recall_fscore_support\n",
    "from sklearn.metrics import roc_auc_score"
   ]
  },
  {
   "cell_type": "code",
   "execution_count": 155,
   "metadata": {
    "collapsed": false
   },
   "outputs": [
    {
     "name": "stdout",
     "output_type": "stream",
     "text": [
      "F1-score:  0.989620845415\n",
      "Precision:  0.989820687495\n",
      "recall:  0.989664082687\n",
      "ROC AUC for contradiction, not_contradiction:  [ 0.9959  0.9959]\n"
     ]
    }
   ],
   "source": [
    "precision, recall, fscore, _ = precision_recall_fscore_support(y_true, y_pred, average='weighted')\n",
    "print(\"F1-score: \", fscore)\n",
    "print(\"Precision: \", precision)\n",
    "print(\"recall: \", recall)\n",
    "#print(\"F1-score for contradiction and non-contradiction: \", f1_score(y_true, y_pred, average=None))\n",
    "print(\"ROC AUC for contradiction, not_contradiction: \", roc_auc_score(y_test, y_hat, average=None))"
   ]
  },
  {
   "cell_type": "markdown",
   "metadata": {},
   "source": [
    "### Contradiction accuracy"
   ]
  },
  {
   "cell_type": "code",
   "execution_count": 17,
   "metadata": {
    "collapsed": false
   },
   "outputs": [
    {
     "name": "stdout",
     "output_type": "stream",
     "text": [
      "Contradiction accuracy:  0.8236111111111111\n"
     ]
    }
   ],
   "source": [
    "print(\"Contradiction accuracy: \", 593/720)"
   ]
  },
  {
   "cell_type": "markdown",
   "metadata": {},
   "source": [
    "# State of the art results"
   ]
  },
  {
   "cell_type": "markdown",
   "metadata": {},
   "source": [
    "![title](state_of_the_art.jpg)"
   ]
  },
  {
   "cell_type": "markdown",
   "metadata": {},
   "source": [
    "### In contradiction class, our system beats the current state of the art by a 0.28 margin"
   ]
  },
  {
   "cell_type": "markdown",
   "metadata": {},
   "source": [
    "# Naive Bayes performance on same dataset"
   ]
  },
  {
   "cell_type": "markdown",
   "metadata": {},
   "source": [
    "![title](nb.jpg)"
   ]
  },
  {
   "cell_type": "markdown",
   "metadata": {},
   "source": [
    "### Our system beats naive bayes in every evaluation metric!"
   ]
  },
  {
   "cell_type": "code",
   "execution_count": 18,
   "metadata": {
    "collapsed": false
   },
   "outputs": [],
   "source": [
    "index2word = {v: k for k, v in word_index.items()}"
   ]
  },
  {
   "cell_type": "markdown",
   "metadata": {},
   "source": [
    "# classify new pairs of sentences"
   ]
  },
  {
   "cell_type": "markdown",
   "metadata": {},
   "source": [
    "### hand engineered features "
   ]
  },
  {
   "cell_type": "code",
   "execution_count": 29,
   "metadata": {
    "collapsed": true
   },
   "outputs": [],
   "source": [
    "sentences = {}\n",
    "antonyms = {}\n",
    "finallist = []\n",
    "\n",
    "def IOU(sentenceA,sentenceB):\n",
    "      s = set(sentenceA.lower().split())\n",
    "      t = set(sentenceB.lower().split())\n",
    "      Union = s|t\n",
    "      Intersection = s&t\n",
    "      return float(len(Intersection)/len(Union))\n",
    "      \n",
    "def Negation(sentenceA,sentenceB) :\n",
    "      Words = [\"no\",\"never\", \"no one\",\"nothing\" ,\"not\",\"without\",\"nobody\"]\n",
    "      s = set(sentenceA.lower().split())\n",
    "      t = set(sentenceB.lower().split())\n",
    "      Union = s|t\n",
    "      Intersection = s&t\n",
    "      \n",
    "      for j in Words:\n",
    "         if j in Union and j not in Intersection :\n",
    "            return 1\n",
    "            \n",
    "      return 0\n",
    "\n",
    "def Overlap(sentenceA,sentenceB):\n",
    "      s = set(sentenceA.lower().split())\n",
    "      t = set(sentenceB.lower().split())\n",
    "\n",
    "      return float(len(s&t)/min(len(sentenceA),len(sentenceB)))   \n",
    "\n",
    "def loadDataset(filename):\n",
    "      inputfile = open(filename)\n",
    "      for line in inputfile:\n",
    "            s = line.replace('\\n', '').replace(',','').replace('\\'','').replace(\".\",'').replace(\"?\",'').replace(\"!\",'').lower().split('\\t')\n",
    "            sentences[line] = [s[1],s[2],s[4]]\n",
    "\n",
    "def loadAntonyms(filename):\n",
    "      inputfile = open(filename)\n",
    "      for line in inputfile:\n",
    "            s = line.lower().split('\\t')\n",
    "            x = s[1].replace(' ','').replace('\\n','').split(\",\")\n",
    "            # if(s[1] == '' or s[0] == ''):\n",
    "            #       print(s[0],s[1])\n",
    "            antonyms[s[0]] = x\n",
    "\n",
    "def antonymCheck(sentenceA,sentenceB):\n",
    "      s1_list = []\n",
    "      s2_list = []\n",
    "      s1_list = sentenceA.lower().split()\n",
    "      s2_list = sentenceB.lower().split()\n",
    "\n",
    "      for s in s1_list:\n",
    "            if s in antonyms:\n",
    "                  for x in s2_list:\n",
    "                        for w in antonyms[s]:\n",
    "                              if w == x:\n",
    "                                    return 1\n",
    "      return 0\n",
    "\n",
    "loadDataset(\"testcases.txt\")\n",
    "loadAntonyms(\"antonyms.txt\")"
   ]
  },
  {
   "cell_type": "code",
   "execution_count": null,
   "metadata": {
    "collapsed": false
   },
   "outputs": [],
   "source": [
    "while(True):\n",
    "\n",
    "\ttext1 = input(\"Type sentence A: \").replace(',','').replace('\\'','').replace(\".\",'').replace(\"?\",'').replace(\"!\",'').lower()\n",
    "\ttext2 = input(\"Type sentence B: \").replace(',','').replace('\\'','').replace(\".\",'').replace(\"?\",'').replace(\"!\",'').lower()\n",
    "\tiou = []\n",
    "\tiou.append(IOU(text1,text2))\n",
    "\tnegation = []\n",
    "\tnegation.append(Negation(text1,text2))\n",
    "\toverlap = []\n",
    "\toverlap.append(Overlap(text1,text2))\n",
    "\tantonym = []\n",
    "\tantonym.append(antonymCheck(text1,text2))\n",
    "\n",
    "\tiou = np.array(iou)\n",
    "\tnegation = np.array(negation)\n",
    "\toverlap = np.array(overlap)\n",
    "\tantonym = np.array(antonym)\n",
    "\n",
    "\ttexts = []\n",
    "\ttexts.append(text1.split())\n",
    "\ttexts.append(text2.split())\n",
    "\tembeddedVec = [] #tokenizer.texts_to_sequences(texts)\n",
    "\n",
    "\tfor sen in texts:\n",
    "\t\temb = []\n",
    "\t\tprint(sen)\n",
    "\t\tfor word in sen:\n",
    "\t\t\tif word_index.get(word) is not None:\n",
    "\t\t\t\temb.append(word_index.get(word))\n",
    "\t\t\telse:\n",
    "\t\t\t\temb.append(0)\n",
    "\t\tembeddedVec.append(emb)\n",
    "\n",
    "\tprint(\"Embeddings\", embeddedVec)\n",
    "\tvectors = pad_sequences(embeddedVec, maxlen=40, padding='post')\n",
    "\n",
    "\tprint(vectors, iou, negate, antonym, overlap)\n",
    "    \n",
    "# \texit(0)\n",
    "\tvecA = vectors[0].reshape(1,40)\n",
    "\tvecB = vectors[1].reshape(1,40)\n",
    "\tiou = iou.reshape(1,1)\n",
    "\tnegation = negation.reshape(1,1)\n",
    "\toverlap = overlap.reshape(1,1)\n",
    "\tantonym = antonym.reshape(1,1)\n",
    "\n",
    "\t#inp = np.array([vecA, vecB, iou, negation, antonym, overlap])\n",
    "\t# inp = inp.reshape(6,1)\n",
    "\t#print(inp.shape)\n",
    "\tresult = model.predict([vecA, vecB, iou, negation, antonym, overlap])\n",
    "\t# print(result)\n",
    "\tindex = np.argmax(result)\n",
    "\n",
    "\tif index == 0:\n",
    "\t\tprint(\"CONTRADICTION\")\n",
    "\t\tprint(\"Confidence: \", result[0][0]*100, \"%\")\n",
    "\tif index == 1:\n",
    "\t\tprint(\"NOT CONTRADICTION\")\n",
    "\t\tprint(\"Confidence: \", result[0][1]*100, \"%\")"
   ]
  },
  {
   "cell_type": "code",
   "execution_count": 156,
   "metadata": {
    "collapsed": false
   },
   "outputs": [],
   "source": [
    "results = model.predict([vecAtest, vecBtest, iou_test, negation_test, antonym_test, overlapcoeff_test]) #"
   ]
  },
  {
   "cell_type": "code",
   "execution_count": 57,
   "metadata": {
    "collapsed": false,
    "scrolled": true
   },
   "outputs": [
    {
     "name": "stdout",
     "output_type": "stream",
     "text": [
      "there is no boy playing outdoors and there is no man smiling\n",
      "a group of kids is playing in a yard and an old man is standing in the background\n",
      "[ 15   2  14  22  12 185   6  15   2  14   4 208   0   0   0   0   0   0\n",
      "   0   0   0   0   0   0   0   0   0   0   0   0   0   0   0   0   0   0\n",
      "   0   0   0   0] [  1  66  10 123   2  12   5   1 247   6  23 251   4   2  18   5   3 204\n",
      "   0   0   0   0   0   0   0   0   0   0   0   0   0   0   0   0   0   0\n",
      "   0   0   0   0]\n",
      "[ 0.2666  0.7334]\n",
      "[0 1]\n"
     ]
    }
   ],
   "source": [
    "print(sentenceA[3822])\n",
    "print(sentenceB[3822])\n",
    "print(vecAtest[0], vecBtest[0])\n",
    "print(results[0])\n",
    "print(y_test[0])"
   ]
  },
  {
   "cell_type": "code",
   "execution_count": 157,
   "metadata": {
    "collapsed": false
   },
   "outputs": [
    {
     "name": "stdout",
     "output_type": "stream",
     "text": [
      "\"breaking: automatic gunfire reported at montrouge near paris. gunmen escaped in metro, say french reports \" \t another shooting reported at the trocadero near the eiffel tower (live updates) \n",
      " \t\n",
      "and now reports of a possible fourth shooting incident at trocadero near eiffel tower. trying to get confirmation. \t \"breaking: automatic gunfire reported at montrouge near paris. gunmen escaped in metro, say french reports \"\n",
      " \t\n",
      "police officer at scene of paris hostage situation tells the bbc two people are confirmed to have died  \t \"more: france: shooting, hostage-taking at kosher market in paris, several reported wounded: \"\n",
      " \t\n",
      "police officer at scene of paris hostage situation tells the bbc two people are confirmed to have died  \t \"breaking: one person seriously wounded, six taken hostage in incident at kosher supermarket in paris: police source\"\n",
      " \t\n",
      "4\n"
     ]
    }
   ],
   "source": [
    "check = 0\n",
    "for i in range(len(results)):\n",
    "    if y_test[i][0] == 1:\n",
    "        if results[i].argmax() == 1:\n",
    "            check += 1\n",
    "            print(sentenceA[906+i], \"\\t\", sentenceB[906+i], \"\\t\", )\n",
    "\n",
    "print(check)"
   ]
  },
  {
   "cell_type": "code",
   "execution_count": null,
   "metadata": {
    "collapsed": true
   },
   "outputs": [],
   "source": []
  }
 ],
 "metadata": {
  "anaconda-cloud": {},
  "kernelspec": {
   "display_name": "Python [conda env:selfDrivingCar]",
   "language": "python",
   "name": "conda-env-selfDrivingCar-py"
  },
  "language_info": {
   "codemirror_mode": {
    "name": "ipython",
    "version": 3
   },
   "file_extension": ".py",
   "mimetype": "text/x-python",
   "name": "python",
   "nbconvert_exporter": "python",
   "pygments_lexer": "ipython3",
   "version": "3.5.2"
  }
 },
 "nbformat": 4,
 "nbformat_minor": 2
}
